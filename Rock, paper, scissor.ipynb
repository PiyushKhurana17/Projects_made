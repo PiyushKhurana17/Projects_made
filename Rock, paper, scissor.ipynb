{
 "cells": [
  {
   "cell_type": "code",
   "execution_count": 28,
   "id": "6cf311fe",
   "metadata": {},
   "outputs": [],
   "source": [
    "def user_input():\n",
    "    result = ' '\n",
    "    while result not in ['ROCK','PAPER','SCISSOR']:\n",
    "        result = input('Choose: Rock, Paper or Scissor').upper()\n",
    "    \n",
    "    return result"
   ]
  },
  {
   "cell_type": "code",
   "execution_count": 29,
   "id": "9e1b6527",
   "metadata": {},
   "outputs": [],
   "source": [
    "import random\n",
    "def BOT_choice():\n",
    "    l = ['ROCK','PAPER','SCISSOR']\n",
    "    num = random.randint(0,2)\n",
    "    return l[num]"
   ]
  },
  {
   "cell_type": "code",
   "execution_count": 30,
   "id": "50192ac5",
   "metadata": {},
   "outputs": [],
   "source": [
    "def win_check(u_choice,b_choice):\n",
    "    if u_choice == 'ROCK' and b_choice == 'PAPER':\n",
    "        return False\n",
    "    elif u_choice == 'ROCK' and b_choice == 'SCISSOR':\n",
    "        return True\n",
    "    elif u_choice == 'PAPER' and b_choice == 'ROCK':\n",
    "        return True\n",
    "    elif u_choice == 'PAPER' and b_choice == 'SCISSOR':\n",
    "        return False\n",
    "    elif u_choice == 'SCISSOR' and b_choice == 'ROCK':\n",
    "        return False\n",
    "    elif u_choice == 'SCISSOR' and b_choice == 'PAPER':\n",
    "        return True\n",
    "    else:\n",
    "        print(\"It's a tie !\")\n",
    "\n",
    "        \n",
    "        "
   ]
  },
  {
   "cell_type": "code",
   "execution_count": 31,
   "id": "454e8738",
   "metadata": {},
   "outputs": [],
   "source": [
    "def game_begin():\n",
    "    response = ' '\n",
    "    while response not in ['Y','N']:\n",
    "        response = input('Ready to play ? Y or N').upper()\n",
    "    return response\n",
    "    "
   ]
  },
  {
   "cell_type": "code",
   "execution_count": 34,
   "id": "7c6929aa",
   "metadata": {
    "scrolled": true
   },
   "outputs": [
    {
     "name": "stdout",
     "output_type": "stream",
     "text": [
      "Ready to play ? Y or NY\n",
      "Choose: Rock, Paper or Scissorpaper\n",
      "Better luck next time !\n",
      "Bot choice was SCISSOR\n",
      "Ready to play ? Y or Ny\n",
      "Ready to play ? Y or NY\n",
      "Choose: Rock, Paper or Scissorrock\n",
      "Congrats, you have won !\n",
      "Bot choice was SCISSOR\n",
      "Ready to play ? Y or Nn\n"
     ]
    }
   ],
   "source": [
    "b_choice = BOT_choice()\n",
    "\n",
    "while True:\n",
    "    a = game_begin()\n",
    "    if a == 'Y':\n",
    "        u_choice = user_input()\n",
    "        if win_check(u_choice,b_choice) == True:\n",
    "            print(\"Congrats, you have won !\")\n",
    "            print('Bot choice was',b_choice)\n",
    "        elif win_check(u_choice,b_choice) == False:\n",
    "            print(\"Better luck next time !\")\n",
    "            print('Bot choice was',b_choice)\n",
    "        else:\n",
    "            print(\"It's a tie !\")\n",
    "            print('Bot choice was',b_choice)\n",
    "            \n",
    "        a = game_begin()\n",
    "        \n",
    "    if a == 'N':\n",
    "        break \n",
    "            \n",
    "        \n",
    "        \n",
    "        \n",
    "    "
   ]
  },
  {
   "cell_type": "code",
   "execution_count": null,
   "id": "d07823b5",
   "metadata": {},
   "outputs": [],
   "source": []
  }
 ],
 "metadata": {
  "kernelspec": {
   "display_name": "Python 3 (ipykernel)",
   "language": "python",
   "name": "python3"
  },
  "language_info": {
   "codemirror_mode": {
    "name": "ipython",
    "version": 3
   },
   "file_extension": ".py",
   "mimetype": "text/x-python",
   "name": "python",
   "nbconvert_exporter": "python",
   "pygments_lexer": "ipython3",
   "version": "3.12.4"
  }
 },
 "nbformat": 4,
 "nbformat_minor": 5
}
