{
 "cells": [
  {
   "cell_type": "code",
   "execution_count": 3,
   "id": "570bf296",
   "metadata": {},
   "outputs": [],
   "source": [
    "#Input validation \n",
    "# use   's.isdigit()' to know if input in data can be converted to integer. IF TRUE THEN input data can be converted to int."
   ]
  },
  {
   "cell_type": "code",
   "execution_count": 4,
   "id": "82d66ed0",
   "metadata": {},
   "outputs": [],
   "source": [
    "#A string (output of input func) cannot be converted into int so we can use the following code so that user input can be converted to int by isdigit()"
   ]
  },
  {
   "cell_type": "code",
   "execution_count": 5,
   "id": "0e5c4b0d",
   "metadata": {},
   "outputs": [],
   "source": [
    "def user_choice():\n",
    "    \n",
    "    choice='ANY STRING'\n",
    "    within_range=False\n",
    "    acceptable_range=range(0,10)\n",
    "    \n",
    "    while choice.isdigit() == False or within_range == False : \n",
    "        \n",
    "        choice = input(\"Enter a digit between 0-10 :\")\n",
    "        if choice.isdigit() == False:\n",
    "            print('Error! input a number between 0 - 10')\n",
    "        \n",
    "        if choice.isdigit() == True:\n",
    "            if int(choice) in acceptable_range:\n",
    "                within_range =True\n",
    "            else:\n",
    "                within_range = False\n",
    "                print(\"The input value is not in the given range\")\n",
    "            \n",
    "            \n",
    "    return int(choice)  #as now we have the choice that can be converted to int \n",
    "        "
   ]
  },
  {
   "cell_type": "code",
   "execution_count": 6,
   "id": "983610a2",
   "metadata": {},
   "outputs": [
    {
     "name": "stdin",
     "output_type": "stream",
     "text": [
      "Enter a digit between 0-10 : 1\n"
     ]
    },
    {
     "data": {
      "text/plain": [
       "1"
      ]
     },
     "execution_count": 6,
     "metadata": {},
     "output_type": "execute_result"
    }
   ],
   "source": [
    "user_choice()"
   ]
  },
  {
   "cell_type": "code",
   "execution_count": 7,
   "id": "9023fc95",
   "metadata": {},
   "outputs": [
    {
     "name": "stdin",
     "output_type": "stream",
     "text": [
      "Enter a digit between 0-10 : 2\n"
     ]
    },
    {
     "data": {
      "text/plain": [
       "2"
      ]
     },
     "execution_count": 7,
     "metadata": {},
     "output_type": "execute_result"
    }
   ],
   "source": [
    "user_choice()"
   ]
  },
  {
   "cell_type": "markdown",
   "id": "b7f5c73d",
   "metadata": {},
   "source": [
    "# LET'S START !"
   ]
  },
  {
   "cell_type": "code",
   "execution_count": 9,
   "id": "a6119720",
   "metadata": {},
   "outputs": [],
   "source": [
    "game_list=[0,1,2]\n",
    "\n",
    "def display_list(game_list):        #A func to just print the game list \n",
    "    print('Here is the game list:')\n",
    "    print(game_list)\n",
    "    "
   ]
  },
  {
   "cell_type": "code",
   "execution_count": 10,
   "id": "9ce20bfe",
   "metadata": {},
   "outputs": [],
   "source": [
    "def position_choice():             #selecting a position to replace \n",
    "    \n",
    "    choice='wrong'\n",
    "    while choice not  in ['0','1','2']:\n",
    "        \n",
    "        choice=input(\"Enter a position (0,1,2)\")\n",
    "        \n",
    "        if choice not in ['0','1','2']:\n",
    "            print('Sorry, your choice is invlid !')\n",
    "            \n",
    "    return int(choice)"
   ]
  },
  {
   "cell_type": "code",
   "execution_count": 11,
   "id": "186dbf37",
   "metadata": {},
   "outputs": [],
   "source": [
    "def replacement_choice(game_list,position):          #func to replace the position with..here position is equal to func position choice(afterwards)\n",
    "    \n",
    "    user_replacement=input('Enter what you wanna replace from given position')\n",
    "    \n",
    "    game_list[position]=user_replacement \n",
    "    \n",
    "    return game_list\n",
    "    "
   ]
  },
  {
   "cell_type": "code",
   "execution_count": 12,
   "id": "1bc15f45",
   "metadata": {},
   "outputs": [],
   "source": [
    "def gameon_choice():             #func to ask user whether the user wants to quit or continue playing \n",
    "    \n",
    "    choice='wrong'\n",
    "    while choice not  in ['Y','N']:\n",
    "        \n",
    "        choice=input(\"Keep playing ? (Y or N)\")\n",
    "        \n",
    "        if choice not in ['Y','N']:\n",
    "            print(\"Sorry, cant understand\")\n",
    "            \n",
    "    if choice == 'Y':\n",
    "                  return True\n",
    "    else:\n",
    "                  return False\n"
   ]
  },
  {
   "cell_type": "code",
   "execution_count": 13,
   "id": "a236f22a",
   "metadata": {},
   "outputs": [],
   "source": [
    "#LET'S PUT ALL THESE FUNCTION TOGETHER "
   ]
  },
  {
   "cell_type": "code",
   "execution_count": 14,
   "id": "c3ed527f",
   "metadata": {},
   "outputs": [
    {
     "name": "stdout",
     "output_type": "stream",
     "text": [
      "Here is the game list:\n",
      "[0, 1, 2]\n"
     ]
    },
    {
     "name": "stdin",
     "output_type": "stream",
     "text": [
      "Enter a position (0,1,2) 2\n",
      "Enter what you wanna replace from given position 2\n"
     ]
    },
    {
     "name": "stdout",
     "output_type": "stream",
     "text": [
      "Here is the game list:\n",
      "[0, 1, '2']\n"
     ]
    },
    {
     "name": "stdin",
     "output_type": "stream",
     "text": [
      "Keep playing ? (Y or N) N\n"
     ]
    }
   ],
   "source": [
    "game_list=[0,1,2]\n",
    "gameon=True\n",
    "\n",
    "while gameon == True :\n",
    "    \n",
    "    display_list(game_list)\n",
    "    \n",
    "    position = position_choice()\n",
    "    \n",
    "    game_list = replacement_choice(game_list,position)\n",
    "    \n",
    "    display_list(game_list)\n",
    "    \n",
    "    gameon = gameon_choice()\n",
    "    \n",
    "    \n",
    "    "
   ]
  },
  {
   "cell_type": "code",
   "execution_count": 15,
   "id": "3dce67d9",
   "metadata": {},
   "outputs": [],
   "source": [
    "##  LET'S CREATE THE TIC TAC TOE GAME  ##"
   ]
  },
  {
   "cell_type": "code",
   "execution_count": 16,
   "id": "33cf0087",
   "metadata": {},
   "outputs": [],
   "source": [
    "from IPython.display import clear_output\n",
    "def display_board(board):   #to display a 3x3 board \n",
    "    clear_output()\n",
    "    print('   |   | ')\n",
    "    print(' '+ board[7] + ' | '+ board[8]+' | '+ board[9])\n",
    "    print('   |   | ')\n",
    "    print('------------')\n",
    "    print('   |   | ')\n",
    "    print(' '+ board[4] + ' | '+board[5]+' | '+board[6])\n",
    "    print('   |   | ')\n",
    "    print('------------')\n",
    "    print('   |   | ')\n",
    "    print(' '+ board[1] + ' | '+ board[2]+' | '+board[3])\n",
    "    print('   |   | ')\n",
    "    "
   ]
  },
  {
   "cell_type": "code",
   "execution_count": 17,
   "id": "bd5a76f2",
   "metadata": {},
   "outputs": [
    {
     "name": "stdout",
     "output_type": "stream",
     "text": [
      "   |   | \n",
      "   |   |  \n",
      "   |   | \n",
      "------------\n",
      "   |   | \n",
      "   |   |  \n",
      "   |   | \n",
      "------------\n",
      "   |   | \n",
      "   |   |  \n",
      "   |   | \n"
     ]
    }
   ],
   "source": [
    "display_board([' ']*10)\n",
    "display_board([' ']*10)   # we could see history of other board so to remove this we use \"from IPython.display import clear_output\""
   ]
  },
  {
   "cell_type": "code",
   "execution_count": 18,
   "id": "4c66d515",
   "metadata": {},
   "outputs": [
    {
     "name": "stdout",
     "output_type": "stream",
     "text": [
      "   |   | \n",
      "   |   |  \n",
      "   |   | \n",
      "------------\n",
      "   |   | \n",
      "   |   |  \n",
      "   |   | \n",
      "------------\n",
      "   |   | \n",
      "   |   |  \n",
      "   |   | \n"
     ]
    }
   ],
   "source": [
    "#now\n",
    "display_board([' ']*10)\n",
    "display_board([' ']*10)   #previous board gets erased "
   ]
  },
  {
   "cell_type": "code",
   "execution_count": 19,
   "id": "e7fe0383",
   "metadata": {},
   "outputs": [
    {
     "name": "stdout",
     "output_type": "stream",
     "text": [
      "   |   | \n",
      "   |   |  \n",
      "   |   | \n",
      "------------\n",
      "   |   | \n",
      "   |   |  \n",
      "   |   | \n",
      "------------\n",
      "   |   | \n",
      "   |   |  \n",
      "   |   | \n"
     ]
    }
   ],
   "source": [
    "display_board([' ']*10)  # board is ready such that it looks more spacious"
   ]
  },
  {
   "cell_type": "code",
   "execution_count": 20,
   "id": "f8b1a85c",
   "metadata": {},
   "outputs": [],
   "source": [
    "def player_input():\n",
    "    marker = ''\n",
    "    while marker not in ['O','X']:\n",
    "        marker=input('Player1, X or O:').upper()\n",
    "    if marker == 'X':\n",
    "        return ('X','O')\n",
    "    else:\n",
    "        return ('O','X')\n",
    "        "
   ]
  },
  {
   "cell_type": "code",
   "execution_count": 21,
   "id": "881c7e1d",
   "metadata": {},
   "outputs": [
    {
     "name": "stdin",
     "output_type": "stream",
     "text": [
      "Player1, X or O: x\n"
     ]
    }
   ],
   "source": [
    "player1_marker,player2_marker=player_input()"
   ]
  },
  {
   "cell_type": "code",
   "execution_count": 22,
   "id": "24bbdf95",
   "metadata": {},
   "outputs": [
    {
     "data": {
      "text/plain": [
       "'X'"
      ]
     },
     "execution_count": 22,
     "metadata": {},
     "output_type": "execute_result"
    }
   ],
   "source": [
    "player1_marker"
   ]
  },
  {
   "cell_type": "code",
   "execution_count": 23,
   "id": "98875462",
   "metadata": {},
   "outputs": [
    {
     "data": {
      "text/plain": [
       "'O'"
      ]
     },
     "execution_count": 23,
     "metadata": {},
     "output_type": "execute_result"
    }
   ],
   "source": [
    "player2_marker"
   ]
  },
  {
   "cell_type": "code",
   "execution_count": 24,
   "id": "4da2c5b6",
   "metadata": {},
   "outputs": [],
   "source": [
    "def place_marker(board,marker,position):\n",
    "    board[position]=marker"
   ]
  },
  {
   "cell_type": "code",
   "execution_count": 25,
   "id": "71dd6a63",
   "metadata": {},
   "outputs": [],
   "source": [
    "def win_check(board,marker):\n",
    "    return ((board[7]==board[8]==board[9]==marker) or \n",
    "            (board[4]==board[5]==board[6]==marker) or\n",
    "            (board[1]==board[2]==board[3]==marker) or\n",
    "            (board[7]==board[4]==board[1]==marker) or\n",
    "            (board[8]==board[5]==board[2]==marker) or\n",
    "            (board[9]==board[6]==board[3]==marker) or\n",
    "            (board[1]==board[5]==board[9]==marker) or\n",
    "            (board[7]==board[5]==board[3]==marker))"
   ]
  },
  {
   "cell_type": "code",
   "execution_count": 26,
   "id": "df20ac0c",
   "metadata": {},
   "outputs": [],
   "source": [
    "def choose_first():\n",
    "    import random\n",
    "    player=random.randint(0,1)\n",
    "    if player==0:\n",
    "        return 'Player 1'\n",
    "    else:\n",
    "        return 'Player 2'"
   ]
  },
  {
   "cell_type": "code",
   "execution_count": 27,
   "id": "4a98c205",
   "metadata": {},
   "outputs": [],
   "source": [
    "def space_check(board,position):\n",
    "    \n",
    "    return board[position] == ' ' # empty place is equal to empty string here "
   ]
  },
  {
   "cell_type": "code",
   "execution_count": 28,
   "id": "3c011b62",
   "metadata": {},
   "outputs": [],
   "source": [
    "def full_board_check(board):\n",
    "    \n",
    "    for i in range(1,10):\n",
    "        if space_check(board,i):\n",
    "            return False  #board is not full\n",
    "\n",
    "    return True  #board is full "
   ]
  },
  {
   "cell_type": "code",
   "execution_count": 29,
   "id": "bb4b4d2b",
   "metadata": {},
   "outputs": [],
   "source": [
    "def player_choice(board):\n",
    "    position=0\n",
    "    \n",
    "    while position not in range(1,10) or not space_check(board,position):\n",
    "        \n",
    "        position=int(input(\"Choose a position (1-9)\"))\n",
    "    return position "
   ]
  },
  {
   "cell_type": "code",
   "execution_count": 30,
   "id": "fb41ab4b",
   "metadata": {},
   "outputs": [],
   "source": [
    " def replay():\n",
    "        \n",
    "        choice=' '\n",
    "        while choice not in [\"YES\",\"NO\"]:\n",
    "            choice = input('Play again ? Yes or No:').upper()\n",
    "        \n",
    "        return choice == 'YES'\n",
    "        \n",
    "     "
   ]
  },
  {
   "cell_type": "code",
   "execution_count": 31,
   "id": "2a558b9e",
   "metadata": {},
   "outputs": [],
   "source": [
    "## LET'S COMBINE THESE CREATED FUNCTION BY USING A WHILE LOOP TO CREATE A TIC TAC TOE GAME"
   ]
  },
  {
   "cell_type": "code",
   "execution_count": null,
   "id": "37e2f0fa",
   "metadata": {},
   "outputs": [
    {
     "name": "stdout",
     "output_type": "stream",
     "text": [
      "   |   | \n",
      " O |   | X\n",
      "   |   | \n",
      "------------\n",
      "   |   | \n",
      "   | X |  \n",
      "   |   | \n",
      "------------\n",
      "   |   | \n",
      " O |   |  \n",
      "   |   | \n"
     ]
    }
   ],
   "source": [
    "print('Welcome to Tic Tac Toe game')\n",
    "\n",
    "while True:\n",
    "    \n",
    "    # SET EVERYTHING UP (BOARD, WHOS FIRST, CHOOSE MARKERS X OR O)\n",
    "    the_board=[' ']*10\n",
    "    player1_marker,player2_marker=player_input()\n",
    "    turn = choose_first()\n",
    "    print( turn + ' will go first !')\n",
    "    \n",
    "    play_game=' '\n",
    "    while play_game not in ['Y','N']:\n",
    "            play_game=input('Ready to Play ? y or n').upper()\n",
    "    \n",
    "        \n",
    "    if play_game=='Y':\n",
    "        game_on=True\n",
    "    else:\n",
    "        game_on= False \n",
    "    while game_on == True:\n",
    "        \n",
    "        if turn=='Player 1':\n",
    "            #display the board\n",
    "            display_board(the_board)\n",
    "            #choose a position\n",
    "            position=player_choice(the_board)\n",
    "            #place a marker\n",
    "            place_marker(the_board,player1_marker,position)\n",
    "            #Check if they have won\n",
    "            if win_check(the_board,player1_marker):\n",
    "                display_board(the_board)\n",
    "                print('Player 1 has won !!')\n",
    "                game_on=False\n",
    "            else:\n",
    "                if full_board_check(the_board):\n",
    "                    display_board(the_board)\n",
    "                    print('The game is a TIE !')\n",
    "                    game_on=False\n",
    "                else:\n",
    "                    turn='Player 2'\n",
    "        else: #player2 turn\n",
    "            #display the board\n",
    "            display_board(the_board)\n",
    "            #choose a position\n",
    "            position=player_choice(the_board)\n",
    "            #place a marker\n",
    "            place_marker(the_board,player2_marker,position)\n",
    "            #Check if they have won\n",
    "            if win_check(the_board,player2_marker):\n",
    "                display_board(the_board)\n",
    "                print('Player 2 has won !!')\n",
    "                game_on=False\n",
    "            else:\n",
    "                if full_board_check(the_board):\n",
    "                    display_board(the_board)\n",
    "                    print('The game is a TIE !')\n",
    "                    game_on=False\n",
    "                else:\n",
    "                    turn='Player 1' \n",
    "                    \n",
    "            \n",
    "            \n",
    "        \n",
    "    \n",
    "    if replay() == False:\n",
    "        break   # breaking out of while loop  \n",
    "        "
   ]
  },
  {
   "cell_type": "code",
   "execution_count": null,
   "id": "7f7284ae",
   "metadata": {},
   "outputs": [],
   "source": []
  },
  {
   "cell_type": "code",
   "execution_count": null,
   "id": "512e283d",
   "metadata": {},
   "outputs": [],
   "source": []
  }
 ],
 "metadata": {
  "kernelspec": {
   "display_name": "Python 3 (ipykernel)",
   "language": "python",
   "name": "python3"
  },
  "language_info": {
   "codemirror_mode": {
    "name": "ipython",
    "version": 3
   },
   "file_extension": ".py",
   "mimetype": "text/x-python",
   "name": "python",
   "nbconvert_exporter": "python",
   "pygments_lexer": "ipython3",
   "version": "3.12.4"
  }
 },
 "nbformat": 4,
 "nbformat_minor": 5
}
