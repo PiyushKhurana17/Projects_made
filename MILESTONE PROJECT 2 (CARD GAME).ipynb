{
 "cells": [
  {
   "cell_type": "markdown",
   "id": "f311307e",
   "metadata": {},
   "source": [
    "# using OOP"
   ]
  },
  {
   "cell_type": "code",
   "execution_count": 4,
   "id": "9186f08a",
   "metadata": {},
   "outputs": [],
   "source": [
    "#SUIT, RANK, VALUE\n",
    "\n",
    "import random \n",
    "values = {'Two':2,'Three':3,'Four':4,'Five':5,'Six':6,'Seven':7,'Eight':8,'Nine':9, 'Ten':10,'Jack':11,\n",
    "          'Queen':12,'King':13,'Ace':1}\n",
    "suits = ('Hearts','Diamonds','Spades','Clubs')\n",
    "ranks = ('Two','Three','Four','Five','Six','Seven','Eight','Nine', 'Ten','Jack',\n",
    "          'Queen','King','Ace')"
   ]
  },
  {
   "cell_type": "code",
   "execution_count": 5,
   "id": "53b887d5",
   "metadata": {},
   "outputs": [],
   "source": [
    "class Card:\n",
    "    \n",
    "    def __init__(self,suit,rank):\n",
    "        self.suit = suit\n",
    "        self.rank = rank.capitalize() \n",
    "        self.value = values[rank.capitalize()]   # values is a global dictionary defined and tested below\n",
    "        \n",
    "    def __str__(self):\n",
    "        return self.rank + ' of ' + self.suit\n",
    "        "
   ]
  },
  {
   "cell_type": "code",
   "execution_count": 6,
   "id": "b75a3897",
   "metadata": {},
   "outputs": [],
   "source": [
    "two_hearts = Card('Hearts',\"two\")"
   ]
  },
  {
   "cell_type": "code",
   "execution_count": 7,
   "id": "1af72536",
   "metadata": {},
   "outputs": [
    {
     "data": {
      "text/plain": [
       "'Hearts'"
      ]
     },
     "execution_count": 7,
     "metadata": {},
     "output_type": "execute_result"
    }
   ],
   "source": [
    "two_hearts.suit"
   ]
  },
  {
   "cell_type": "code",
   "execution_count": 8,
   "id": "f4f95c49",
   "metadata": {},
   "outputs": [
    {
     "data": {
      "text/plain": [
       "'Two'"
      ]
     },
     "execution_count": 8,
     "metadata": {},
     "output_type": "execute_result"
    }
   ],
   "source": [
    "two_hearts.rank"
   ]
  },
  {
   "cell_type": "code",
   "execution_count": 9,
   "id": "0af78a5a",
   "metadata": {},
   "outputs": [
    {
     "name": "stdout",
     "output_type": "stream",
     "text": [
      "Two of Hearts\n"
     ]
    }
   ],
   "source": [
    "print(two_hearts)"
   ]
  },
  {
   "cell_type": "code",
   "execution_count": 10,
   "id": "864ca822",
   "metadata": {},
   "outputs": [],
   "source": [
    "values = {'Two':2,'Three':3,'Four':4,'Five':5,'Six':6,'Seven':7,'Eight':8,'Nine':9, 'Ten':10,'Jack':11,'Queen':12,'King':13,'Ace':1}"
   ]
  },
  {
   "cell_type": "code",
   "execution_count": 11,
   "id": "4e0ea761",
   "metadata": {},
   "outputs": [
    {
     "data": {
      "text/plain": [
       "2"
      ]
     },
     "execution_count": 11,
     "metadata": {},
     "output_type": "execute_result"
    }
   ],
   "source": [
    "values[two_hearts.rank]   # better for comparison for values since comparison was not valid in case of strings."
   ]
  },
  {
   "cell_type": "code",
   "execution_count": 12,
   "id": "426bd19e",
   "metadata": {},
   "outputs": [
    {
     "data": {
      "text/plain": [
       "2"
      ]
     },
     "execution_count": 12,
     "metadata": {},
     "output_type": "execute_result"
    }
   ],
   "source": [
    "two_hearts.value"
   ]
  },
  {
   "cell_type": "code",
   "execution_count": 13,
   "id": "531998a0",
   "metadata": {},
   "outputs": [],
   "source": [
    "three_of_clubs = Card('Clubs','three')"
   ]
  },
  {
   "cell_type": "code",
   "execution_count": 14,
   "id": "d2bcf41f",
   "metadata": {},
   "outputs": [
    {
     "data": {
      "text/plain": [
       "True"
      ]
     },
     "execution_count": 14,
     "metadata": {},
     "output_type": "execute_result"
    }
   ],
   "source": [
    "two_hearts.value < three_of_clubs.value"
   ]
  },
  {
   "cell_type": "code",
   "execution_count": 15,
   "id": "9606bbb8",
   "metadata": {},
   "outputs": [],
   "source": [
    "class Deck:\n",
    "    def __init__(self):\n",
    "\n",
    "        self.all_cards = []\n",
    "\n",
    "        for suit in suits:\n",
    "            for rank in ranks:\n",
    "                #create the card object \n",
    "                created_card = Card(suit,rank)\n",
    "                self.all_cards.append(created_card)\n",
    "\n",
    "    def shuffle(self):  # A method\n",
    "        # gonna use random.shuffle(), doesn't return anything but does in place shuffle in original list\n",
    "        random.shuffle(self.all_cards)  \n",
    "\n",
    "    def deal_one(self):\n",
    "        return self.all_cards.pop()  #.pop() removes one element in a list and returns that removed element "
   ]
  },
  {
   "cell_type": "code",
   "execution_count": 16,
   "id": "a4efe9e3-a334-4bc3-8ff6-e1940f3428b7",
   "metadata": {},
   "outputs": [],
   "source": [
    "new_deck = Deck()"
   ]
  },
  {
   "cell_type": "code",
   "execution_count": 17,
   "id": "38b1a19e-89b3-482b-a151-d469fd7bcf6a",
   "metadata": {},
   "outputs": [
    {
     "data": {
      "text/plain": [
       "[<__main__.Card at 0x2498018b770>,\n",
       " <__main__.Card at 0x2498018be60>,\n",
       " <__main__.Card at 0x249801c03e0>,\n",
       " <__main__.Card at 0x249801c0440>,\n",
       " <__main__.Card at 0x249801c1130>,\n",
       " <__main__.Card at 0x249801c12e0>,\n",
       " <__main__.Card at 0x249801c1310>,\n",
       " <__main__.Card at 0x249801c1370>,\n",
       " <__main__.Card at 0x249801c1400>,\n",
       " <__main__.Card at 0x249801c1460>,\n",
       " <__main__.Card at 0x249801c14c0>,\n",
       " <__main__.Card at 0x249801c14f0>,\n",
       " <__main__.Card at 0x249801c1580>,\n",
       " <__main__.Card at 0x249801c15e0>,\n",
       " <__main__.Card at 0x249801c1640>,\n",
       " <__main__.Card at 0x249801c1670>,\n",
       " <__main__.Card at 0x249801c1700>,\n",
       " <__main__.Card at 0x249801c1760>,\n",
       " <__main__.Card at 0x249801c17c0>,\n",
       " <__main__.Card at 0x249801c17f0>,\n",
       " <__main__.Card at 0x249801c1850>,\n",
       " <__main__.Card at 0x249801c18e0>,\n",
       " <__main__.Card at 0x249801c1940>,\n",
       " <__main__.Card at 0x249801c19d0>,\n",
       " <__main__.Card at 0x249801c1a30>,\n",
       " <__main__.Card at 0x249801c1af0>,\n",
       " <__main__.Card at 0x249801c1b80>,\n",
       " <__main__.Card at 0x249801c1c10>,\n",
       " <__main__.Card at 0x249801c1c70>,\n",
       " <__main__.Card at 0x249801c1d30>,\n",
       " <__main__.Card at 0x249801c1dc0>,\n",
       " <__main__.Card at 0x249801c1e50>,\n",
       " <__main__.Card at 0x249801c1eb0>,\n",
       " <__main__.Card at 0x249801c1f40>,\n",
       " <__main__.Card at 0x249801c2000>,\n",
       " <__main__.Card at 0x249801c2090>,\n",
       " <__main__.Card at 0x249801c2120>,\n",
       " <__main__.Card at 0x249801c2180>,\n",
       " <__main__.Card at 0x249801c2240>,\n",
       " <__main__.Card at 0x249801c22d0>,\n",
       " <__main__.Card at 0x249801c2360>,\n",
       " <__main__.Card at 0x249801c23c0>,\n",
       " <__main__.Card at 0x249801c2480>,\n",
       " <__main__.Card at 0x249801c2510>,\n",
       " <__main__.Card at 0x249801c25a0>,\n",
       " <__main__.Card at 0x249801c2600>,\n",
       " <__main__.Card at 0x249801c2690>,\n",
       " <__main__.Card at 0x249801c2750>,\n",
       " <__main__.Card at 0x249801c27e0>,\n",
       " <__main__.Card at 0x249801c2870>,\n",
       " <__main__.Card at 0x249801c28d0>,\n",
       " <__main__.Card at 0x249801c2990>]"
      ]
     },
     "execution_count": 17,
     "metadata": {},
     "output_type": "execute_result"
    }
   ],
   "source": [
    "new_deck.all_cards   # we get all card objects individually"
   ]
  },
  {
   "cell_type": "code",
   "execution_count": 18,
   "id": "4265c30f-dad9-45b8-b684-0184641e6a7e",
   "metadata": {},
   "outputs": [],
   "source": [
    "first_card = new_deck.all_cards[0]  # object of first_card"
   ]
  },
  {
   "cell_type": "code",
   "execution_count": 19,
   "id": "e9383fb4-5f18-4ff6-9c81-15e728a8debd",
   "metadata": {},
   "outputs": [
    {
     "data": {
      "text/plain": [
       "'Two'"
      ]
     },
     "execution_count": 19,
     "metadata": {},
     "output_type": "execute_result"
    }
   ],
   "source": [
    "first_card.rank   #attributes of the Card class are available"
   ]
  },
  {
   "cell_type": "code",
   "execution_count": 20,
   "id": "ecd89bd8-8e56-4f83-912a-32e16052c100",
   "metadata": {},
   "outputs": [
    {
     "data": {
      "text/plain": [
       "'Hearts'"
      ]
     },
     "execution_count": 20,
     "metadata": {},
     "output_type": "execute_result"
    }
   ],
   "source": [
    "first_card.suit"
   ]
  },
  {
   "cell_type": "code",
   "execution_count": 21,
   "id": "4a8aced8-371e-4788-9c4c-2b5592e1dda4",
   "metadata": {},
   "outputs": [
    {
     "data": {
      "text/plain": [
       "2"
      ]
     },
     "execution_count": 21,
     "metadata": {},
     "output_type": "execute_result"
    }
   ],
   "source": [
    "first_card.value"
   ]
  },
  {
   "cell_type": "code",
   "execution_count": 22,
   "id": "6c50a731-ed3c-4545-a059-37e489156443",
   "metadata": {},
   "outputs": [
    {
     "name": "stdout",
     "output_type": "stream",
     "text": [
      "Two of Hearts\n"
     ]
    }
   ],
   "source": [
    "print(first_card)    # the first card according to the matching of for loop "
   ]
  },
  {
   "cell_type": "code",
   "execution_count": 23,
   "id": "4d65f150-2b19-4efd-9c6e-aff22d7a949d",
   "metadata": {},
   "outputs": [],
   "source": [
    "bottom_card = new_deck.all_cards[-1]"
   ]
  },
  {
   "cell_type": "code",
   "execution_count": 24,
   "id": "c72278cf-044e-4e6e-8b20-49f06d4f865d",
   "metadata": {},
   "outputs": [
    {
     "name": "stdout",
     "output_type": "stream",
     "text": [
      "Ace of Clubs\n"
     ]
    }
   ],
   "source": [
    "print(bottom_card)    # evident by for loop matching"
   ]
  },
  {
   "cell_type": "code",
   "execution_count": 25,
   "id": "84e9d4ff-49ca-47a7-bdb2-a8a1cdb1e8ce",
   "metadata": {},
   "outputs": [
    {
     "name": "stdout",
     "output_type": "stream",
     "text": [
      "Two of Hearts\n",
      "Three of Hearts\n",
      "Four of Hearts\n",
      "Five of Hearts\n",
      "Six of Hearts\n",
      "Seven of Hearts\n",
      "Eight of Hearts\n",
      "Nine of Hearts\n",
      "Ten of Hearts\n",
      "Jack of Hearts\n",
      "Queen of Hearts\n",
      "King of Hearts\n",
      "Ace of Hearts\n",
      "Two of Diamonds\n",
      "Three of Diamonds\n",
      "Four of Diamonds\n",
      "Five of Diamonds\n",
      "Six of Diamonds\n",
      "Seven of Diamonds\n",
      "Eight of Diamonds\n",
      "Nine of Diamonds\n",
      "Ten of Diamonds\n",
      "Jack of Diamonds\n",
      "Queen of Diamonds\n",
      "King of Diamonds\n",
      "Ace of Diamonds\n",
      "Two of Spades\n",
      "Three of Spades\n",
      "Four of Spades\n",
      "Five of Spades\n",
      "Six of Spades\n",
      "Seven of Spades\n",
      "Eight of Spades\n",
      "Nine of Spades\n",
      "Ten of Spades\n",
      "Jack of Spades\n",
      "Queen of Spades\n",
      "King of Spades\n",
      "Ace of Spades\n",
      "Two of Clubs\n",
      "Three of Clubs\n",
      "Four of Clubs\n",
      "Five of Clubs\n",
      "Six of Clubs\n",
      "Seven of Clubs\n",
      "Eight of Clubs\n",
      "Nine of Clubs\n",
      "Ten of Clubs\n",
      "Jack of Clubs\n",
      "Queen of Clubs\n",
      "King of Clubs\n",
      "Ace of Clubs\n"
     ]
    }
   ],
   "source": [
    "for card_object in new_deck.all_cards :\n",
    "    print(card_object)   # returns all 52 cards"
   ]
  },
  {
   "cell_type": "code",
   "execution_count": 26,
   "id": "3f0a281a-d6d0-4044-89f9-c94b59692e04",
   "metadata": {},
   "outputs": [],
   "source": [
    "new_deck.shuffle()  #just shuffleing the all_card attribute"
   ]
  },
  {
   "cell_type": "code",
   "execution_count": 27,
   "id": "e0dc4beb-b78b-4f66-80ab-a2a93c3582eb",
   "metadata": {},
   "outputs": [
    {
     "name": "stdout",
     "output_type": "stream",
     "text": [
      "Five of Clubs\n"
     ]
    }
   ],
   "source": [
    "print(new_deck.all_cards[-1])   # shuffled as last card was ace of clubs"
   ]
  },
  {
   "cell_type": "code",
   "execution_count": 28,
   "id": "26cb6c93-830f-44ba-ae9b-d9da673d6fd6",
   "metadata": {},
   "outputs": [
    {
     "name": "stdout",
     "output_type": "stream",
     "text": [
      "Eight of Diamonds\n"
     ]
    }
   ],
   "source": [
    "print(new_deck.all_cards[0])   # was two of hearts earlier"
   ]
  },
  {
   "cell_type": "code",
   "execution_count": 29,
   "id": "f2202556-434a-4df9-9037-db750b9449d1",
   "metadata": {},
   "outputs": [],
   "source": [
    "new_deck.shuffle()"
   ]
  },
  {
   "cell_type": "code",
   "execution_count": 30,
   "id": "177bdc28-e977-42be-9513-6a0768b0267b",
   "metadata": {},
   "outputs": [],
   "source": [
    "mycard = new_deck.deal_one()"
   ]
  },
  {
   "cell_type": "code",
   "execution_count": 31,
   "id": "ec32d62e-4e0f-4281-9868-299f27c3bbcb",
   "metadata": {},
   "outputs": [
    {
     "name": "stdout",
     "output_type": "stream",
     "text": [
      "Two of Clubs\n"
     ]
    }
   ],
   "source": [
    "print(mycard)   # this card got removed "
   ]
  },
  {
   "cell_type": "code",
   "execution_count": 32,
   "id": "d1ce809f-a89c-4520-a663-a6d431f8f3cf",
   "metadata": {},
   "outputs": [
    {
     "data": {
      "text/plain": [
       "51"
      ]
     },
     "execution_count": 32,
     "metadata": {},
     "output_type": "execute_result"
    }
   ],
   "source": [
    "len(new_deck.all_cards)  # not 52 anymore since one card has been popped"
   ]
  },
  {
   "cell_type": "code",
   "execution_count": 33,
   "id": "f7d113bf-2cd1-4996-a385-d36bc83cd6f5",
   "metadata": {},
   "outputs": [],
   "source": [
    "class Player:\n",
    "\n",
    "    def __init__(self,name):\n",
    "\n",
    "        self.name = name\n",
    "        self.all_cards = []\n",
    "\n",
    "    def remove_one(self):\n",
    "        return self.all_cards.pop(0)\n",
    "\n",
    "    def add_cards(self,new_cards):\n",
    "        if type(new_cards) == type([]):\n",
    "            self.all_cards.extend(new_cards)  #multiple adding by list, append cannot work since all cards will become a nested list\n",
    "\n",
    "        else:\n",
    "            self.all_cards.append(new_cards)  #adding a single card\n",
    "\n",
    "    def __str__(self):\n",
    "        return f'Player {self.name} has {len(self.all_cards)} cards'\n",
    "        \n",
    "\n",
    "\n",
    "\n",
    "        \n",
    "        "
   ]
  },
  {
   "cell_type": "code",
   "execution_count": 34,
   "id": "3ab8ae77-2a66-4610-b9ba-1fba581e6946",
   "metadata": {},
   "outputs": [],
   "source": [
    "new_player = Player(\"Piyush\")"
   ]
  },
  {
   "cell_type": "code",
   "execution_count": 35,
   "id": "97004d44-d554-474c-8da2-7f012e9b2ee5",
   "metadata": {},
   "outputs": [
    {
     "name": "stdout",
     "output_type": "stream",
     "text": [
      "Player Piyush has 0 cards\n"
     ]
    }
   ],
   "source": [
    "print(new_player)"
   ]
  },
  {
   "cell_type": "code",
   "execution_count": 36,
   "id": "fc2aa692-a84b-4a51-8e20-5cf84e3018d8",
   "metadata": {},
   "outputs": [],
   "source": [
    "new_player.add_cards(mycard)"
   ]
  },
  {
   "cell_type": "code",
   "execution_count": 37,
   "id": "58a1d502-1ff7-4582-a5c1-d7c77a3bf19a",
   "metadata": {},
   "outputs": [
    {
     "name": "stdout",
     "output_type": "stream",
     "text": [
      "Player Piyush has 1 cards\n"
     ]
    }
   ],
   "source": [
    "print(new_player)"
   ]
  },
  {
   "cell_type": "code",
   "execution_count": 38,
   "id": "785e0801-b936-482b-ae7d-95534e3cb7f8",
   "metadata": {},
   "outputs": [
    {
     "name": "stdout",
     "output_type": "stream",
     "text": [
      "Two of Clubs\n"
     ]
    }
   ],
   "source": [
    "print(new_player.all_cards[0])  # same as the previously dealt mycard"
   ]
  },
  {
   "cell_type": "code",
   "execution_count": 39,
   "id": "beca07dc-1d16-4b3d-adb5-b180c20536e3",
   "metadata": {},
   "outputs": [],
   "source": [
    "new_player.add_cards([mycard]*3)"
   ]
  },
  {
   "cell_type": "code",
   "execution_count": 40,
   "id": "fb6ca147-12ff-41ab-a561-b6cd8ac61306",
   "metadata": {},
   "outputs": [
    {
     "name": "stdout",
     "output_type": "stream",
     "text": [
      "Player Piyush has 4 cards\n"
     ]
    }
   ],
   "source": [
    "print(new_player)"
   ]
  },
  {
   "cell_type": "code",
   "execution_count": 41,
   "id": "2c7e73b6-6359-442e-8d64-e28608288307",
   "metadata": {},
   "outputs": [
    {
     "data": {
      "text/plain": [
       "<__main__.Card at 0x249801c22d0>"
      ]
     },
     "execution_count": 41,
     "metadata": {},
     "output_type": "execute_result"
    }
   ],
   "source": [
    "new_player.remove_one()"
   ]
  },
  {
   "cell_type": "code",
   "execution_count": 42,
   "id": "e6e37f93-7d52-43f2-8c57-bcca15ab4190",
   "metadata": {},
   "outputs": [
    {
     "name": "stdout",
     "output_type": "stream",
     "text": [
      "Player Piyush has 3 cards\n"
     ]
    }
   ],
   "source": [
    "print(new_player)"
   ]
  },
  {
   "cell_type": "code",
   "execution_count": 43,
   "id": "fcb5865d-f530-4abf-affa-58c8679907eb",
   "metadata": {},
   "outputs": [],
   "source": [
    "#GAME SETUP\n",
    "player_one = Player('One')\n",
    "player_two = Player('Two')\n",
    "\n",
    "new_deck = Deck()\n",
    "new_deck.shuffle()\n",
    "\n",
    "#split the cards between the players \n",
    "for x in range(26):\n",
    "    player_one.add_cards(new_deck.deal_one())\n",
    "    player_two.add_cards(new_deck.deal_one())"
   ]
  },
  {
   "cell_type": "code",
   "execution_count": 44,
   "id": "def4a2f1-1da0-4a94-a38c-53da7bdd498b",
   "metadata": {},
   "outputs": [
    {
     "data": {
      "text/plain": [
       "26"
      ]
     },
     "execution_count": 44,
     "metadata": {},
     "output_type": "execute_result"
    }
   ],
   "source": [
    "len(player_one.all_cards)  # cards added "
   ]
  },
  {
   "cell_type": "code",
   "execution_count": 45,
   "id": "ef6ce200-776a-4672-ba5f-37eb7209e441",
   "metadata": {},
   "outputs": [],
   "source": [
    "game_on = True"
   ]
  },
  {
   "cell_type": "code",
   "execution_count": 46,
   "id": "7beaed4e-29b5-4404-9464-be5a0b3f5c93",
   "metadata": {},
   "outputs": [
    {
     "name": "stdout",
     "output_type": "stream",
     "text": [
      "Round 1\n",
      "Round 2\n",
      "Round 3\n",
      "Round 4\n",
      "Round 5\n",
      "Round 6\n",
      "Round 7\n",
      "Round 8\n",
      "Round 9\n",
      "Round 10\n",
      "Round 11\n",
      "Round 12\n",
      "Round 13\n",
      "Round 14\n",
      "Round 15\n",
      "Round 16\n",
      "WAR!\n",
      "Round 17\n",
      "Round 18\n",
      "Round 19\n",
      "Round 20\n",
      "WAR!\n",
      "Round 21\n",
      "Round 22\n",
      "Round 23\n",
      "Round 24\n",
      "Round 25\n",
      "Round 26\n",
      "Round 27\n",
      "Round 28\n",
      "Round 29\n",
      "Round 30\n",
      "Round 31\n",
      "Round 32\n",
      "Round 33\n",
      "Round 34\n",
      "Round 35\n",
      "Round 36\n",
      "Round 37\n",
      "Round 38\n",
      "Round 39\n",
      "WAR!\n",
      "Player one unable to play a war\n",
      "Player two wins !\n"
     ]
    }
   ],
   "source": [
    "round_num = 0\n",
    "\n",
    "while game_on:\n",
    "    round_num += 1\n",
    "    print(f'Round {round_num}')\n",
    "\n",
    "    if len(player_one.all_cards) == 0 :\n",
    "        print('Player One, out of cards!')\n",
    "        print('Player Two, Wins !')\n",
    "        game_on = False\n",
    "        break\n",
    "\n",
    "    elif len(player_two.all_cards) == 0:\n",
    "        print('Player Two, out of cards!')\n",
    "        print('Player One, Wins!')\n",
    "        game_on = False\n",
    "        break\n",
    "\n",
    "    # START A NEW ROUND\n",
    "\n",
    "    player_one_cards = [] # cards into play \n",
    "    player_one_cards.append(player_one.remove_one())\n",
    "    \n",
    "    player_two_cards = []\n",
    "    player_two_cards.append(player_two.remove_one())\n",
    "\n",
    "    at_war = True\n",
    "    \n",
    "    while at_war:\n",
    "\n",
    "        if player_one_cards[-1].value > player_two_cards[-1].value:\n",
    "            player_one.add_cards(player_one_cards)\n",
    "            player_two.add_cards(player_two_cards)\n",
    "            at_war = False\n",
    "\n",
    "        elif player_one_cards[-1].value < player_two_cards[-1].value:\n",
    "            player_two.add_cards(player_two_cards)\n",
    "            player_two.add_cards(player_one_cards)\n",
    "            at_war = False\n",
    "\n",
    "        else:\n",
    "            print('WAR!')\n",
    "\n",
    "            if len(player_one.all_cards) < 5 :\n",
    "                print('Player one unable to play a war')\n",
    "                print('Player two wins !')\n",
    "                game_on = False\n",
    "                break  # breaks out from at_war loop\n",
    "        \n",
    "\n",
    "            elif len(player_two.all_cards) < 5 :\n",
    "                print('Player two unable to play a war')\n",
    "                print('Player one wins !')\n",
    "                game_on = False   \n",
    "                break  # breaks out from at_war loop\n",
    "\n",
    "            else: \n",
    "                for num in range(5):\n",
    "                    player_one_cards.append(player_one.remove_one())\n",
    "                    player_two_cards.append(player_two.remove_one())\n",
    "        \n",
    "\n",
    "    \n",
    "\n",
    "    "
   ]
  },
  {
   "cell_type": "code",
   "execution_count": 47,
   "id": "a2cc1be0-4997-4d26-9948-a1b12c047abf",
   "metadata": {},
   "outputs": [],
   "source": [
    "## LET'S CREATE A BLACKJACK GAME (PREVIOUS ONE WAS THE WARM-UP, THIS IS THE 2ND MILESTONE PROJECT)\n",
    "import random \n",
    "\n",
    "suits = ('Hearts','Diamonds','Spades','Clubs')\n",
    "ranks = ('Two','Three','Four','Five','Six','Seven','Eight','Nine', 'Ten','Jack',\n",
    "          'Queen','King','Ace')\n",
    "value = {'Two':2,'Three':3,'Four':4,'Five':5,'Six':6,'Seven':7,'Eight':8,'Nine':9, 'Ten':10,'Jack':10,\n",
    "          'Queen':10,'King':10,'Ace':11}\n",
    "\n",
    "playing = True\n",
    "\n"
   ]
  },
  {
   "cell_type": "code",
   "execution_count": 48,
   "id": "9f88698f-8201-4831-8109-43bf9e9f639f",
   "metadata": {},
   "outputs": [],
   "source": [
    "#Let's create a card class\n",
    "class Card:\n",
    "\n",
    "    def __init__(self,suit,rank):\n",
    "        self.suit = suit\n",
    "        self.rank = rank.capitalize()\n",
    "        self.value = value[rank.capitalize()]\n",
    "\n",
    "    def __str__(self):\n",
    "        return self.rank + ' of ' + self.suit"
   ]
  },
  {
   "cell_type": "code",
   "execution_count": 49,
   "id": "3a710057-996f-4e9f-aa57-f302c0ea3667",
   "metadata": {},
   "outputs": [],
   "source": [
    "#Let's create a deck class\n",
    "class Deck:  # card object of 52 cards\n",
    "\n",
    "    def __init__(self):\n",
    "        self.deck = []\n",
    "        for suit in suits:\n",
    "            for rank in ranks:\n",
    "                Created_card = Card(suit,rank)\n",
    "                self.deck.append(Created_card)\n",
    "\n",
    "    def __str__(self):\n",
    "        deck_compilation = ''\n",
    "        for card in self.deck:    \n",
    "            deck_compilation += '\\n' + card.__str__()\n",
    "        return 'The deck has: ' + deck_compilation\n",
    "\n",
    "\n",
    "    def shuffle(self):\n",
    "        random.shuffle(self.deck)  # does shuffle in place\n",
    "\n",
    "    def deal(self):\n",
    "        return self.deck.pop() # returns the 1st removed card from the deck of cards\n",
    "\n",
    "    \n",
    "    \n",
    "    "
   ]
  },
  {
   "cell_type": "code",
   "execution_count": 50,
   "id": "79b6b9d6-8e01-4db8-914b-82b3b169c22f",
   "metadata": {},
   "outputs": [],
   "source": [
    "test_deck = Deck()\n",
    "test_deck.shuffle()"
   ]
  },
  {
   "cell_type": "code",
   "execution_count": 51,
   "id": "9f833956-5b03-418b-9736-f96f57eeb551",
   "metadata": {},
   "outputs": [
    {
     "name": "stdout",
     "output_type": "stream",
     "text": [
      "The deck has: \n",
      "Ace of Diamonds\n",
      "King of Clubs\n",
      "Jack of Clubs\n",
      "Seven of Clubs\n",
      "Four of Diamonds\n",
      "Queen of Spades\n",
      "Ten of Hearts\n",
      "Six of Diamonds\n",
      "Eight of Clubs\n",
      "Four of Hearts\n",
      "Two of Hearts\n",
      "Eight of Diamonds\n",
      "Ace of Clubs\n",
      "Two of Spades\n",
      "Ace of Hearts\n",
      "Ten of Spades\n",
      "Five of Spades\n",
      "Ten of Clubs\n",
      "Eight of Spades\n",
      "Three of Hearts\n",
      "Four of Spades\n",
      "Jack of Diamonds\n",
      "Three of Diamonds\n",
      "Jack of Spades\n",
      "Queen of Hearts\n",
      "Three of Clubs\n",
      "Seven of Hearts\n",
      "Two of Clubs\n",
      "Two of Diamonds\n",
      "Eight of Hearts\n",
      "Five of Hearts\n",
      "Ten of Diamonds\n",
      "Nine of Spades\n",
      "Six of Spades\n",
      "Seven of Diamonds\n",
      "Queen of Diamonds\n",
      "King of Spades\n",
      "King of Hearts\n",
      "Seven of Spades\n",
      "Ace of Spades\n",
      "Six of Hearts\n",
      "Six of Clubs\n",
      "Nine of Diamonds\n",
      "Four of Clubs\n",
      "Nine of Hearts\n",
      "Queen of Clubs\n",
      "Nine of Clubs\n",
      "King of Diamonds\n",
      "Five of Diamonds\n",
      "Five of Clubs\n",
      "Jack of Hearts\n",
      "Three of Spades\n"
     ]
    }
   ],
   "source": [
    "print(test_deck)"
   ]
  },
  {
   "cell_type": "code",
   "execution_count": 52,
   "id": "da30e8d2-f28c-42ec-9d3e-6c5f174ae0ca",
   "metadata": {},
   "outputs": [],
   "source": [
    "#LET'S CREATE THE HAND CLASS (CARDS THAT ARE IN HAND)\n",
    "class Hand:\n",
    "    def __init__(self):\n",
    "        self.cards = []\n",
    "        self.value = 0   #start with zero value\n",
    "        self.aces = 0   #attribute to keep track on aces as value can be 1 or 11\n",
    "\n",
    "    def add_card(self,card):\n",
    "        # card is card dealt from Deck.deal() # single Card(suit,rank)\n",
    "        self.cards.append(card)\n",
    "        self.value += card.value\n",
    "\n",
    "        #track for ace\n",
    "        if card.rank == 'Ace':\n",
    "            self.aces += 1\n",
    "\n",
    "    def adjust_for_ace(self):\n",
    "        while self.value > 21 and self.aces:  # if value is greater than 21 and aces are greater than 1 \n",
    "            self.value -= 10   # instead of treating ace as 11, I want to treat it as 1\n",
    "            self.aces -= 1  # remove 1 ace from self.aces, so that if it becomes zero, while loop will not run \n",
    "        "
   ]
  },
  {
   "cell_type": "code",
   "execution_count": 53,
   "id": "5e4370d4-fe3d-4b39-bee6-7c4a7706fbbe",
   "metadata": {},
   "outputs": [],
   "source": [
    "test_deck = Deck()\n",
    "test_deck.shuffle()"
   ]
  },
  {
   "cell_type": "code",
   "execution_count": 54,
   "id": "eda58988-b2e4-4e6d-8ecc-6a8e84377108",
   "metadata": {},
   "outputs": [
    {
     "name": "stdout",
     "output_type": "stream",
     "text": [
      "Two of Spades\n"
     ]
    },
    {
     "data": {
      "text/plain": [
       "2"
      ]
     },
     "execution_count": 54,
     "metadata": {},
     "output_type": "execute_result"
    }
   ],
   "source": [
    "test_player = Hand()\n",
    "pulled_card = test_deck.deal()\n",
    "print(pulled_card)\n",
    "test_player.add_card(pulled_card)\n",
    "test_player.value"
   ]
  },
  {
   "cell_type": "code",
   "execution_count": 55,
   "id": "6ce67d09-b291-4654-8bd5-8766db902891",
   "metadata": {},
   "outputs": [],
   "source": [
    "#LET'S CREATE A CHIPS CLASS\n",
    "class Chips:\n",
    "\n",
    "    def __init__(self,total = 100):\n",
    "        self.total = total\n",
    "        self.bet = 0\n",
    "\n",
    "    def win_bet(self):\n",
    "        self.total += self.bet\n",
    "\n",
    "    def lose_bet(self):\n",
    "        self.total -= self.bet \n",
    "        "
   ]
  },
  {
   "cell_type": "code",
   "execution_count": 56,
   "id": "1dc68a79-037a-4cff-9916-df57f78e354d",
   "metadata": {},
   "outputs": [],
   "source": [
    "# function for taking bets\n",
    "def take_bet(chips):\n",
    "    while True:\n",
    "        try: \n",
    "            chips.bet = int(input('How much chips would you like to bet ?'))  # chips would be the Chip class assigned later\n",
    "\n",
    "        except:\n",
    "            print(\"Sorry, pls provide an integer\")\n",
    "\n",
    "        else: # if there is no error\n",
    "            if chips.bet > chips.total :\n",
    "                print('Sorry you do not have enough chips')\n",
    "                print('You have: ',chips.total)\n",
    "            else:\n",
    "                break\n"
   ]
  },
  {
   "cell_type": "code",
   "execution_count": 57,
   "id": "5a0668e3-0c8f-4d3e-a71b-dbf33c254bdd",
   "metadata": {},
   "outputs": [],
   "source": [
    "# Function for player to hit until they bust\n",
    "def hit(deck,hand):\n",
    "    single_card = deck.deal()\n",
    "    hand.add_card(single_card)\n",
    "    hand.adjust_for_ace()"
   ]
  },
  {
   "cell_type": "code",
   "execution_count": 58,
   "id": "00f67fcc-02a7-45bd-9089-e6b71a921312",
   "metadata": {},
   "outputs": [],
   "source": [
    "# function if player want to hit or stand\n",
    "def hit_or_stand(deck,hand):\n",
    "    global playing\n",
    "\n",
    "    while True:\n",
    "        x = input('Hit or Stand? Enter h or s')\n",
    "\n",
    "        if x[0] == 'h':\n",
    "            hit(deck,hand)\n",
    "\n",
    "        elif x[0] == 's':\n",
    "            print(\"Player stands, dealer's turn\")\n",
    "            playing = False\n",
    "\n",
    "        else:\n",
    "            print(\"Sorry, I did not understand that, pls enter h or s only!\")\n",
    "        break\n",
    "\n",
    "        \n",
    "\n"
   ]
  },
  {
   "cell_type": "code",
   "execution_count": 59,
   "id": "29d9f5ca-db24-404b-a0d5-234b0e9809b7",
   "metadata": {},
   "outputs": [],
   "source": [
    "# function to display cards\n",
    "def show_some(player,dealer):\n",
    "    # show only one of the dealer's card\n",
    "    print(\"\\n Dealer's Hand: \")\n",
    "    print('First card hidden !')\n",
    "    print(dealer.cards[1])  #showing the second card\n",
    "    \n",
    "    # show all (2 cards) of the player's hand/cards\n",
    "    print(\"\\n Player's Hand: \")\n",
    "    for card in player.cards:\n",
    "        print(card)\n",
    "    \n",
    "\n",
    "def show_all(player,dealer):\n",
    "    # show all the dealer's cards\n",
    "    print(\"\\n Dealer's Hand: \")\n",
    "    for card in dealer.cards:   # for looping and printing every card we could use asterisk(*) too. For eg: print(\"\\n Dealer's hand: \",*dealer.cards,sep = \"\\n\" )   \n",
    "        print(card)                                                                                 # should come under print only\n",
    "    \n",
    "    # calculate and display value \n",
    "    print(f\"Value of dealer's hand is: {dealer.value}\")\n",
    "\n",
    "    # show all the player's cards\n",
    "    print(\"\\n Player's Hand: \")\n",
    "    for card in player.cards:\n",
    "        print(card)\n",
    "    print(f\"Value of Player's hand is: {player.value}\")\n",
    "    "
   ]
  },
  {
   "cell_type": "code",
   "execution_count": 60,
   "id": "1b269495-87c4-45f8-b482-1044f0b6b58b",
   "metadata": {},
   "outputs": [],
   "source": [
    "# functions to handle game scenarios\n",
    "def player_busts(player,dealer,chips):\n",
    "    print(\"PLAYER BUSTED!\")\n",
    "    chips.lose_bet()\n",
    "\n",
    "def player_wins(player,dealer,chips):\n",
    "    print(\"Player wins !\")\n",
    "    chips.win_bet()\n",
    "\n",
    "def dealer_busts(player,dealer,chips):\n",
    "    print(\"Player wins! Dealer's busted !\")\n",
    "    chips.win_bet()\n",
    "\n",
    "def dealer_wins(player,dealer,chips):\n",
    "    print(\"Dealer wins ! Player busted\")\n",
    "    chips.lose_bet()\n",
    "\n",
    "def push(player,dealer):\n",
    "    print(\"Dealer and player tie! PUSH\")"
   ]
  },
  {
   "cell_type": "code",
   "execution_count": null,
   "id": "f72272e8-978a-43a6-89bb-f75b4de607ca",
   "metadata": {},
   "outputs": [
    {
     "name": "stdout",
     "output_type": "stream",
     "text": [
      "Welcome To Blackjack!\n"
     ]
    },
    {
     "name": "stdin",
     "output_type": "stream",
     "text": [
      "How much chips would you like to bet ? 80\n"
     ]
    },
    {
     "name": "stdout",
     "output_type": "stream",
     "text": [
      "\n",
      " Dealer's Hand: \n",
      "First card hidden !\n",
      "Jack of Spades\n",
      "\n",
      " Player's Hand: \n",
      "Nine of Clubs\n",
      "Queen of Spades\n"
     ]
    },
    {
     "name": "stdin",
     "output_type": "stream",
     "text": [
      "Hit or Stand? Enter h or s s\n"
     ]
    },
    {
     "name": "stdout",
     "output_type": "stream",
     "text": [
      "Player stands, dealer's turn\n",
      "\n",
      " Dealer's Hand: \n",
      "First card hidden !\n",
      "Jack of Spades\n",
      "\n",
      " Player's Hand: \n",
      "Nine of Clubs\n",
      "Queen of Spades\n",
      "\n",
      " Dealer's Hand: \n",
      "Seven of Hearts\n",
      "Jack of Spades\n",
      "Ten of Spades\n",
      "Value of dealer's hand is: 27\n",
      "\n",
      " Player's Hand: \n",
      "Nine of Clubs\n",
      "Queen of Spades\n",
      "Value of Player's hand is: 19\n",
      "Player wins! Dealer's busted !\n",
      "\n",
      " Player total chips:  180\n"
     ]
    },
    {
     "name": "stdin",
     "output_type": "stream",
     "text": [
      "Would you like to play again ? y or n y\n"
     ]
    },
    {
     "name": "stdout",
     "output_type": "stream",
     "text": [
      "Welcome To Blackjack!\n"
     ]
    },
    {
     "name": "stdin",
     "output_type": "stream",
     "text": [
      "How much chips would you like to bet ? 50\n"
     ]
    },
    {
     "name": "stdout",
     "output_type": "stream",
     "text": [
      "\n",
      " Dealer's Hand: \n",
      "First card hidden !\n",
      "Four of Hearts\n",
      "\n",
      " Player's Hand: \n",
      "Six of Hearts\n",
      "Four of Spades\n"
     ]
    }
   ],
   "source": [
    "# LET'S DEVELOP THE GAME NOW !\n",
    "\n",
    "while True:\n",
    "\n",
    "    print(\"Welcome To Blackjack!\")\n",
    "    # Create and shuffle the deck, deal two cards to each player\n",
    "    deck = Deck()\n",
    "    deck.shuffle()\n",
    "\n",
    "    player_hand = Hand()\n",
    "    player_hand.add_card(deck.deal())\n",
    "    player_hand.add_card(deck.deal())\n",
    "\n",
    "    dealer_hand = Hand()\n",
    "    dealer_hand.add_card(deck.deal())\n",
    "    dealer_hand.add_card(deck.deal())\n",
    "\n",
    "    # set up player's chips\n",
    "    player_chips = Chips()\n",
    "    # prompt player for their bet\n",
    "    take_bet(player_chips)\n",
    "\n",
    "    #show cards( but keep one dealer card hidden)\n",
    "    show_some(player_hand,dealer_hand)\n",
    "\n",
    "    while playing: # recall global playing from hit and stand func\n",
    "        # Prompt for hit or stand\n",
    "        hit_or_stand(deck,player_hand)\n",
    "\n",
    "        # show some (but keep one dealer card hidden)\n",
    "        show_some(player_hand,dealer_hand)\n",
    "\n",
    "        # If player's hand exceeds 21, run player_busts() and break out of the loop\n",
    "        if player_hand.value > 21:\n",
    "            player_busts(player_hand,dealer_hand,player_chips)\n",
    "            break\n",
    "\n",
    "    if player_hand.value <= 21:\n",
    "\n",
    "\n",
    "        while dealer_hand.value < player_hand.value:\n",
    "            hit(deck,dealer_hand)  # rule of blackjack \n",
    "\n",
    "        show_all(player_hand,dealer_hand)\n",
    "\n",
    "        if dealer_hand.value > 21:\n",
    "            dealer_busts(player_hand,dealer_hand,player_chips)\n",
    "\n",
    "        elif player_hand.value < dealer_hand.value:\n",
    "            dealer_wins(player_hand,dealer_hand,player_chips)\n",
    "\n",
    "        elif player_hand.value > dealer_hand.value :  # wont really happen since the while loop will not let it do this \n",
    "            player_wins(player_hand,dealer_hand,player_chips)\n",
    "\n",
    "        else:\n",
    "            push(player_hand,dealer_hand)\n",
    "\n",
    "    # inform player of their total chips\n",
    "    print('\\n Player total chips: ',player_chips.total)\n",
    "    # Ask to play again \n",
    "    new_game = ' '\n",
    "    while new_game not in ['Y','N']:\n",
    "        new_game = input(\"Would you like to play again ? y or n\").upper()\n",
    "\n",
    "    if new_game == 'Y':\n",
    "        playing = True \n",
    "        continue\n",
    "\n",
    "    else:\n",
    "        print('Thank you for playing !')\n",
    "        break\n",
    "    \n",
    "\n",
    "        "
   ]
  },
  {
   "cell_type": "code",
   "execution_count": null,
   "id": "f6f0a4eb-3dcf-405f-a6e7-91fe0832ac02",
   "metadata": {},
   "outputs": [],
   "source": []
  }
 ],
 "metadata": {
  "kernelspec": {
   "display_name": "Python 3 (ipykernel)",
   "language": "python",
   "name": "python3"
  },
  "language_info": {
   "codemirror_mode": {
    "name": "ipython",
    "version": 3
   },
   "file_extension": ".py",
   "mimetype": "text/x-python",
   "name": "python",
   "nbconvert_exporter": "python",
   "pygments_lexer": "ipython3",
   "version": "3.12.4"
  }
 },
 "nbformat": 4,
 "nbformat_minor": 5
}
