{
 "cells": [
  {
   "cell_type": "code",
   "execution_count": 2,
   "id": "75b15fff-857d-4e27-8a57-b59832ba2ee7",
   "metadata": {},
   "outputs": [],
   "source": [
    "from textblob import TextBlob"
   ]
  },
  {
   "cell_type": "code",
   "execution_count": 5,
   "id": "b2aae9c2-0c9c-416a-b93a-0b5c86a1c46a",
   "metadata": {},
   "outputs": [],
   "source": [
    "wiki = TextBlob('Python is the best language')"
   ]
  },
  {
   "cell_type": "code",
   "execution_count": 8,
   "id": "5a34b976-ed70-4b78-9b23-f676be8a270b",
   "metadata": {},
   "outputs": [
    {
     "name": "stdout",
     "output_type": "stream",
     "text": [
      "Sentiment(polarity=1.0, subjectivity=0.3)\n"
     ]
    }
   ],
   "source": [
    "print(wiki.sentiment)"
   ]
  },
  {
   "cell_type": "code",
   "execution_count": 14,
   "id": "49566aae-20d9-4fd3-bdff-3a03cd9ebd14",
   "metadata": {},
   "outputs": [],
   "source": [
    "# let's start"
   ]
  },
  {
   "cell_type": "code",
   "execution_count": null,
   "id": "83c22018-b88b-4a65-9383-deca93e8a280",
   "metadata": {},
   "outputs": [
    {
     "name": "stdout",
     "output_type": "stream",
     "text": [
      "Welcome to sentiments anyalysis tool !\n"
     ]
    },
    {
     "name": "stdin",
     "output_type": "stream",
     "text": [
      "Enter a sentence:  This is the best thing in the world. \n"
     ]
    },
    {
     "name": "stdout",
     "output_type": "stream",
     "text": [
      "The sentence is positive !\n"
     ]
    }
   ],
   "source": [
    "print('Welcome to sentiments anyalysis tool !')\n",
    "sentiments = True\n",
    "while sentiments:\n",
    "    sentence = input('Enter a sentence: ')\n",
    "    result = TextBlob(sentence)\n",
    "    if result.sentiment.polarity > 0.1:\n",
    "        print('The sentence is positive !')\n",
    "    elif result.sentiment.polarity < -0.1:\n",
    "        print('The sentence is negative !')\n",
    "    else:\n",
    "        print('The sentence is neutral !')\n",
    "    a = ' '\n",
    "    while a not in ['Y','N']:\n",
    "        a = input('Wanna test again ? Y or N: ').upper()\n",
    "    if a == 'Y':\n",
    "        continue\n",
    "    else:\n",
    "        sentiments = False"
   ]
  },
  {
   "cell_type": "code",
   "execution_count": 25,
   "id": "af29b0cc-75f1-40ae-a442-ab1b0a2dd941",
   "metadata": {},
   "outputs": [],
   "source": [
    "l = [1,2,3,4,5]\n",
    "l.sort(reverse = True)\n",
    "    "
   ]
  },
  {
   "cell_type": "code",
   "execution_count": 27,
   "id": "499b3938-4386-48b4-b1fa-3dd78355fc30",
   "metadata": {},
   "outputs": [
    {
     "data": {
      "text/plain": [
       "[5, 4, 3, 2, 1]"
      ]
     },
     "execution_count": 27,
     "metadata": {},
     "output_type": "execute_result"
    }
   ],
   "source": [
    "l"
   ]
  },
  {
   "cell_type": "code",
   "execution_count": 31,
   "id": "6d25e3ff-52a8-4f1a-9ed3-fd10db78b87e",
   "metadata": {},
   "outputs": [
    {
     "name": "stdout",
     "output_type": "stream",
     "text": [
      "1\n"
     ]
    }
   ],
   "source": [
    "l = [1,2,3,4,5,100]\n",
    "min_ = 100\n",
    "for x in l:\n",
    "    if x < min_ :\n",
    "        min_ = x\n",
    "    else:\n",
    "        pass\n",
    "print(min_)\n",
    "        "
   ]
  },
  {
   "cell_type": "code",
   "execution_count": 88,
   "id": "65ff225c-a7dd-4123-9bae-1611540a55f3",
   "metadata": {},
   "outputs": [],
   "source": [
    "def subArraySum(arr, n, s): \n",
    "        for x in range(n):\n",
    "            if sum(arr[x:x+3]) == s:\n",
    "                print(x+1, x+3)\n",
    "        \n",
    "            "
   ]
  },
  {
   "cell_type": "code",
   "execution_count": 90,
   "id": "3588a451-2877-41c7-be8d-7b4153bd3237",
   "metadata": {},
   "outputs": [
    {
     "name": "stdout",
     "output_type": "stream",
     "text": [
      "2 4\n"
     ]
    }
   ],
   "source": [
    "subArraySum([5,6,9,10,78,45],6,25)"
   ]
  },
  {
   "cell_type": "code",
   "execution_count": 106,
   "id": "fa51b37a-e468-44cd-96fe-0c9fbd9f5c55",
   "metadata": {},
   "outputs": [],
   "source": [
    "def isSubset( a1, a2, n, m):\n",
    "    s1 = sorted(a1)\n",
    "    s2 = sorted(a2)\n",
    "    \n",
    "    if s2 in s1:\n",
    "        return 'Yes'\n",
    "    else:\n",
    "        return 'No'"
   ]
  },
  {
   "cell_type": "code",
   "execution_count": 122,
   "id": "12d273aa-d6a6-4ffa-9aab-2b710a161252",
   "metadata": {},
   "outputs": [
    {
     "data": {
      "text/plain": [
       "'No'"
      ]
     },
     "execution_count": 122,
     "metadata": {},
     "output_type": "execute_result"
    }
   ],
   "source": [
    "isSubset({1,2,3,4,5},{1,2,3},5,3)"
   ]
  },
  {
   "cell_type": "code",
   "execution_count": 120,
   "id": "ff35a818-1f7e-4986-82d7-399e36260ca3",
   "metadata": {},
   "outputs": [
    {
     "data": {
      "text/plain": [
       "True"
      ]
     },
     "execution_count": 120,
     "metadata": {},
     "output_type": "execute_result"
    }
   ],
   "source": [
    "(1) in (1,2,3)"
   ]
  },
  {
   "cell_type": "code",
   "execution_count": 124,
   "id": "dd7626d6-d557-4bfd-ba43-c77f94968b24",
   "metadata": {},
   "outputs": [
    {
     "data": {
      "text/plain": [
       "False"
      ]
     },
     "execution_count": 124,
     "metadata": {},
     "output_type": "execute_result"
    }
   ],
   "source": [
    "{1} in {1,2}"
   ]
  },
  {
   "cell_type": "code",
   "execution_count": 126,
   "id": "82f56158-23bd-4df3-8258-2489c970aae8",
   "metadata": {},
   "outputs": [
    {
     "data": {
      "text/plain": [
       "True"
      ]
     },
     "execution_count": 126,
     "metadata": {},
     "output_type": "execute_result"
    }
   ],
   "source": [
    "1 in {1,2}"
   ]
  },
  {
   "cell_type": "code",
   "execution_count": 134,
   "id": "4d91c9d5-175f-4306-a855-86ec33b2a538",
   "metadata": {},
   "outputs": [
    {
     "data": {
      "text/plain": [
       "(1, 2, 3)"
      ]
     },
     "execution_count": 134,
     "metadata": {},
     "output_type": "execute_result"
    }
   ],
   "source": [
    "tuple({1,2,3})"
   ]
  },
  {
   "cell_type": "code",
   "execution_count": 176,
   "id": "4cee27fc-f983-411d-862d-49eef544308d",
   "metadata": {},
   "outputs": [],
   "source": [
    "def isSubset( a1, a2, n, m):\n",
    "    \n",
    "    if a2.issubset(a1):\n",
    "        return 'Yes'\n",
    "    else:\n",
    "        return 'No'\n",
    "            \n",
    "    \n"
   ]
  },
  {
   "cell_type": "code",
   "execution_count": 178,
   "id": "d4994985-24e8-4823-bffa-9ebec9219e63",
   "metadata": {},
   "outputs": [
    {
     "data": {
      "text/plain": [
       "'Yes'"
      ]
     },
     "execution_count": 178,
     "metadata": {},
     "output_type": "execute_result"
    }
   ],
   "source": [
    "isSubset({1,3,2,6,4},{1,2,3},5,3)"
   ]
  },
  {
   "cell_type": "code",
   "execution_count": 158,
   "id": "8be0c4a8-c4aa-4044-a79e-8f5eeb1070b9",
   "metadata": {},
   "outputs": [
    {
     "data": {
      "text/plain": [
       "(1, 2, 3)"
      ]
     },
     "execution_count": 158,
     "metadata": {},
     "output_type": "execute_result"
    }
   ],
   "source": [
    "tuple(sorted({3,2,1}))"
   ]
  },
  {
   "cell_type": "code",
   "execution_count": 174,
   "id": "7be73dc2-d7c4-4d8d-9dd8-9cc54d85ce96",
   "metadata": {},
   "outputs": [
    {
     "data": {
      "text/plain": [
       "False"
      ]
     },
     "execution_count": 174,
     "metadata": {},
     "output_type": "execute_result"
    }
   ],
   "source": [
    "(1,2,3) in (1,2,3,4,5)"
   ]
  },
  {
   "cell_type": "code",
   "execution_count": null,
   "id": "d8936129-c32e-4047-a88e-3e4716c4c6f4",
   "metadata": {},
   "outputs": [],
   "source": []
  }
 ],
 "metadata": {
  "kernelspec": {
   "display_name": "Python 3 (ipykernel)",
   "language": "python",
   "name": "python3"
  },
  "language_info": {
   "codemirror_mode": {
    "name": "ipython",
    "version": 3
   },
   "file_extension": ".py",
   "mimetype": "text/x-python",
   "name": "python",
   "nbconvert_exporter": "python",
   "pygments_lexer": "ipython3",
   "version": "3.12.4"
  }
 },
 "nbformat": 4,
 "nbformat_minor": 5
}
